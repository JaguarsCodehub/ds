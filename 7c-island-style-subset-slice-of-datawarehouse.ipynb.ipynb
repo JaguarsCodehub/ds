{
 "cells": [
  {
   "cell_type": "code",
   "execution_count": 1,
   "metadata": {},
   "outputs": [
    {
     "name": "stdout",
     "output_type": "stream",
     "text": [
      "Loading : C:/Users/Jyotindra/Desktop/DSPracs/datamart.db  Table: Dim-BMI\n",
      "Loading : C:/Users/Jyotindra/Desktop/DSPracs/datamart.db  Table: Dim-BMI\n",
      "Storing : C:/Users/Jyotindra/Desktop/DSPracs/datamart.db \n",
      " Table: Dim-BMI-Vertical\n",
      "Loading : C:/Users/Jyotindra/Desktop/DSPracs/datamart.db  Table: Dim-BMI-Vertical\n",
      "################################\n",
      "Full Data Set (Rows): 1080\n",
      "Full Data Set (Columns): 5\n",
      "################################\n",
      "Horizontal Data Set (Rows): 771\n",
      "Horizontal Data Set (Columns): 5\n"
     ]
    }
   ],
   "source": [
    "import pandas as pd\n",
    "import sqlite3 as sq\n",
    "sDatabaseName='C:/Users/Jyotindra/Desktop/DSPracs/datawarehouse.db'\n",
    "conn1 = sq.connect(sDatabaseName)\n",
    "sDatabaseName='C:/Users/Jyotindra/Desktop/DSPracs/datamart.db'\n",
    "conn2 = sq.connect(sDatabaseName)\n",
    "sTable = 'Dim-BMI'\n",
    "print('Loading :',sDatabaseName,' Table:',sTable)\n",
    "sSQL=\"SELECT * FROM [Dim-BMI];\"\n",
    "PersonFrame0=pd.read_sql_query(sSQL, conn1)\n",
    "sTable = 'Dim-BMI'\n",
    "print('Loading :',sDatabaseName,' Table:',sTable)\n",
    "sSQL=\"SELECT PersonID, Height, Weight, bmi, Indicator FROM [Dim-BMI] WHERE Indicator > 2 ORDER BY Height, Weight\"\n",
    "PersonFrame1=pd.read_sql_query(sSQL, conn1)\n",
    "DimPerson=PersonFrame1\n",
    "DimPersonIndex=DimPerson.set_index(['Indicator'],inplace=False)\n",
    "sTable = 'Dim-BMI-Vertical'\n",
    "print('Storing :',sDatabaseName,'\\n Table:',sTable)\n",
    "DimPersonIndex.to_sql(sTable, conn2, if_exists=\"replace\")\n",
    "sTable = 'Dim-BMI-Vertical'\n",
    "print('Loading :',sDatabaseName,' Table:',sTable)\n",
    "print('################################')\n",
    "sSQL=\"SELECT * FROM [Dim-BMI-Vertical];\"\n",
    "PersonFrame2=pd.read_sql_query(sSQL, conn2)\n",
    "print('Full Data Set (Rows):', PersonFrame0.shape[0])\n",
    "print('Full Data Set (Columns):', PersonFrame0.shape[1])\n",
    "print('################################')\n",
    "print('Horizontal Data Set (Rows):', PersonFrame2.shape[0])\n",
    "print('Horizontal Data Set (Columns):', PersonFrame2.shape[1])\n"
   ]
  }
 ],
 "metadata": {
  "kernelspec": {
   "display_name": "Python 3",
   "language": "python",
   "name": "python3"
  },
  "language_info": {
   "codemirror_mode": {
    "name": "ipython",
    "version": 3
   },
   "file_extension": ".py",
   "mimetype": "text/x-python",
   "name": "python",
   "nbconvert_exporter": "python",
   "pygments_lexer": "ipython3",
   "version": "3.10.5"
  }
 },
 "nbformat": 4,
 "nbformat_minor": 2
}
