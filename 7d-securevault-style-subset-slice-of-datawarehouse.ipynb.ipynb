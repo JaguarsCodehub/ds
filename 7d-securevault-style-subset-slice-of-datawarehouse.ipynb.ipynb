{
 "cells": [
  {
   "cell_type": "code",
   "execution_count": 2,
   "metadata": {},
   "outputs": [
    {
     "name": "stdout",
     "output_type": "stream",
     "text": [
      "Loading : C:/Users/Jyotindra/Desktop/DSPracs/datamart.db  Table: Dim-BMI\n",
      "Loading : C:/Users/Jyotindra/Desktop/DSPracs/datamart.db  Table: Dim-BMI\n",
      "Storing : C:/Users/Jyotindra/Desktop/DSPracs/datamart.db \n",
      " Table: Dim-BMI-Secure\n",
      "Loading : C:/Users/Jyotindra/Desktop/DSPracs/datamart.db  Table: Dim-BMI-Secure\n",
      "################################\n",
      "Full Data Set (Rows): 1080\n",
      "Full Data Set (Columns): 5\n",
      "################################\n",
      "Horizontal Data Set (Rows): 692\n",
      "Horizontal Data Set (Columns): 4\n",
      "################################\n",
      "Only Sams Data appears as follows:\n",
      "   Indicator  Height  Weight Name\n",
      "0          4     1.0      35  Sam\n",
      "1          4     1.0      40  Sam\n",
      "2          4     1.0      45  Sam\n",
      "3          4     1.0      50  Sam\n",
      "4          4     1.0      55  Sam\n",
      "################################\n",
      "Nishi Jain-53004230036\n"
     ]
    }
   ],
   "source": [
    "import pandas as pd\n",
    "import sqlite3 as sq\n",
    "sDatabaseName='C:/Users/Jyotindra/Desktop/DSPracs/datawarehouse.db'\n",
    "conn1 = sq.connect(sDatabaseName)\n",
    "sDatabaseName='C:/Users/Jyotindra/Desktop/DSPracs/datamart.db'\n",
    "conn2 = sq.connect(sDatabaseName)\n",
    "sTable = 'Dim-BMI'\n",
    "print('Loading :',sDatabaseName,' Table:',sTable)\n",
    "sSQL=\"SELECT * FROM [Dim-BMI];\"\n",
    "PersonFrame0=pd.read_sql_query(sSQL, conn1)\n",
    "sTable = 'Dim-BMI'\n",
    "print('Loading :',sDatabaseName,' Table:',sTable)\n",
    "sSQL=\"SELECT Height, Weight, CASE Indicator WHEN 1 THEN 'Pip' WHEN 2 THEN 'Norman' WHEN 3 THEN 'Grant' ELSE 'Sam' END AS Name, Indicator FROM [Dim-BMI] WHERE Indicator > 2 ORDER BY Height, Weight;\"\n",
    "PersonFrame1=pd.read_sql_query(sSQL, conn1)\n",
    "DimPerson=PersonFrame1\n",
    "DimPersonIndex=DimPerson.set_index(['Indicator'],inplace=False)\n",
    "sTable = 'Dim-BMI-Secure'\n",
    "print('Storing :',sDatabaseName,'\\n Table:',sTable)\n",
    "DimPersonIndex.to_sql(sTable, conn2, if_exists=\"replace\")\n",
    "sTable = 'Dim-BMI-Secure'\n",
    "print('Loading :',sDatabaseName,' Table:',sTable)\n",
    "sSQL=\"SELECT * FROM [Dim-BMI-Secure] WHERE Name = 'Sam';\"\n",
    "PersonFrame2=pd.read_sql_query(sSQL, conn2)\n",
    "print('################################')\n",
    "print('Full Data Set (Rows):', PersonFrame0.shape[0])\n",
    "print('Full Data Set (Columns):', PersonFrame0.shape[1])\n",
    "print('################################')\n",
    "print('Horizontal Data Set (Rows):', PersonFrame2.shape[0])\n",
    "print('Horizontal Data Set (Columns):', PersonFrame2.shape[1])\n",
    "print('################################')\n",
    "print('Only Sams Data appears as follows:')\n",
    "print(PersonFrame2.head())\n",
    "print('################################')\n",
    "print('Nishi Jain-53004230036')"
   ]
  }
 ],
 "metadata": {
  "kernelspec": {
   "display_name": "Python 3",
   "language": "python",
   "name": "python3"
  },
  "language_info": {
   "codemirror_mode": {
    "name": "ipython",
    "version": 3
   },
   "file_extension": ".py",
   "mimetype": "text/x-python",
   "name": "python",
   "nbconvert_exporter": "python",
   "pygments_lexer": "ipython3",
   "version": "3.10.5"
  }
 },
 "nbformat": 4,
 "nbformat_minor": 2
}
