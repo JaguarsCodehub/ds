{
 "cells": [
  {
   "cell_type": "code",
   "execution_count": 2,
   "metadata": {},
   "outputs": [
    {
     "name": "stdout",
     "output_type": "stream",
     "text": [
      "Working Base : C:/Users/Jyotindra/Desktop/DSPracs\n",
      "Loading : C:/Users/Jyotindra/Desktop/DSPracs/Assess_People.csv\n",
      "################################\n",
      "C:/Users/Jyotindra/Desktop/DSPracs/Assess_People.csv\n",
      "################################\n",
      "Storing : C:/Users/Jyotindra/Desktop/DSPracs/datavault.db  Table: Process_Person\n"
     ]
    },
    {
     "name": "stderr",
     "output_type": "stream",
     "text": [
      "C:\\Users\\Jyotindra\\AppData\\Local\\Temp\\ipykernel_10276\\2071349370.py:55: SettingWithCopyWarning: \n",
      "A value is trying to be set on a copy of a slice from a DataFrame.\n",
      "Try using .loc[row_indexer,col_indexer] = value instead\n",
      "\n",
      "See the caveats in the documentation: https://pandas.pydata.org/pandas-docs/stable/user_guide/indexing.html#returning-a-view-versus-a-copy\n",
      "  PersonHubRaw['PersonHubID']=RawData.apply(lambda row:\n"
     ]
    },
    {
     "name": "stdout",
     "output_type": "stream",
     "text": [
      "Storing : C:/Users/Jyotindra/Desktop/DSPracs/datavault.db  Table: Hub-Person\n"
     ]
    },
    {
     "name": "stderr",
     "output_type": "stream",
     "text": [
      "C:\\Users\\Jyotindra\\AppData\\Local\\Temp\\ipykernel_10276\\2071349370.py:67: SettingWithCopyWarning: \n",
      "A value is trying to be set on a copy of a slice from a DataFrame.\n",
      "Try using .loc[row_indexer,col_indexer] = value instead\n",
      "\n",
      "See the caveats in the documentation: https://pandas.pydata.org/pandas-docs/stable/user_guide/indexing.html#returning-a-view-versus-a-copy\n",
      "  PersonSatelliteGenderRaw['PersonSatelliteID']=RawData.apply(lambda row:\n"
     ]
    },
    {
     "name": "stdout",
     "output_type": "stream",
     "text": [
      "Storing : C:/Users/Jyotindra/Desktop/DSPracs/datavault.db  Table: Satellite-Person-Gender\n",
      "Storing : C:/Users/Jyotindra/Desktop/DSPracs/datavault.db  Table: Satellite-Person-Names\n",
      "Storing : C:/Users/Jyotindra/Desktop/DSPracs/Satellite-Person-Names.csv\n",
      "################################\n",
      "Vacuum Databases\n"
     ]
    },
    {
     "name": "stderr",
     "output_type": "stream",
     "text": [
      "C:\\Users\\Jyotindra\\AppData\\Local\\Temp\\ipykernel_10276\\2071349370.py:99: FutureWarning: `pandas.io.sql.execute` is deprecated and will be removed in the future version.\n",
      "  sql.execute(sSQL,conn1)\n",
      "C:\\Users\\Jyotindra\\AppData\\Local\\Temp\\ipykernel_10276\\2071349370.py:100: FutureWarning: `pandas.io.sql.execute` is deprecated and will be removed in the future version.\n",
      "  sql.execute(sSQL,conn2)\n"
     ]
    },
    {
     "name": "stdout",
     "output_type": "stream",
     "text": [
      "Done!!\n",
      "Nishi Jain-53004230036\n"
     ]
    }
   ],
   "source": [
    "import sqlite3 as sq\n",
    "import pandas as pd\n",
    "from pandas.io import sql\n",
    "from datetime import datetime, timedelta\n",
    "from pytz import timezone, all_timezones\n",
    "from random import randint\n",
    "import uuid\n",
    "Base='C:/Users/Jyotindra/Desktop/DSPracs'\n",
    "print('Working Base :',Base)\n",
    "sInputFileName='/Assess_People.csv'\n",
    "sDataBaseDir=Base\n",
    "sDatabaseName=sDataBaseDir + '/clark.db'\n",
    "conn1 = sq.connect(sDatabaseName)\n",
    "\n",
    "sDatabaseName=Base + '/datavault.db'\n",
    "conn2 = sq.connect(sDatabaseName)\n",
    "### Import Female Data\n",
    "sFileName=Base + sInputFileName\n",
    "print('Loading :',sFileName)\n",
    "print('################################')\n",
    "print(sFileName)\n",
    "RawData=pd.read_csv(sFileName,header=0,low_memory=False, encoding=\"latin-1\")\n",
    "RawData.drop_duplicates(subset=None, keep='first', inplace=True)\n",
    "start_date = datetime(1900,1,1,0,0,0)\n",
    "start_date_utc=start_date.replace(tzinfo=timezone('UTC'))\n",
    "HoursBirth=100*365*24\n",
    "RawData['BirthDateUTC']=RawData.apply(lambda row:\n",
    "(start_date_utc + timedelta(hours=randint(0, HoursBirth)))\n",
    ",axis=1)\n",
    "zonemax=len(all_timezones)-1\n",
    "RawData['TimeZone']=RawData.apply(lambda row:\n",
    "(all_timezones[randint(0, zonemax)])\n",
    ",axis=1)\n",
    "RawData['BirthDateISO']=RawData.apply(lambda row:\n",
    "row[\"BirthDateUTC\"].astimezone(timezone(row['TimeZone']))\n",
    ",axis=1)\n",
    "RawData['BirthDateKey']=RawData.apply(lambda row:\n",
    "row[\"BirthDateUTC\"].strftime(\"%Y-%m-%d %H:%M:%S\")\n",
    ",axis=1)\n",
    "RawData['BirthDate']=RawData.apply(lambda row:\n",
    "row[\"BirthDateISO\"].strftime(\"%Y-%m-%d %H:%M:%S\")\n",
    ",axis=1)\n",
    "RawData['PersonID']=RawData.apply(lambda row:\n",
    "str(uuid.uuid4())\n",
    ",axis=1)\n",
    "Data=RawData.copy()\n",
    "Data.drop('BirthDateUTC', axis=1,inplace=True)\n",
    "Data.drop('BirthDateISO', axis=1,inplace=True)\n",
    "indexed_data = Data.set_index(['PersonID'])\n",
    "print('################################')\n",
    "sTable='Process_Person'\n",
    "print('Storing :',sDatabaseName,' Table:',sTable)\n",
    "indexed_data.to_sql(sTable, conn1, if_exists=\"replace\")\n",
    "PersonHubRaw=Data[['PersonID','FirstName','SecondName','LastName','BirthDateKey']]\n",
    "PersonHubRaw['PersonHubID']=RawData.apply(lambda row:\n",
    "str(uuid.uuid4())\n",
    ",axis=1)\n",
    "PersonHub=PersonHubRaw.drop_duplicates(subset=None, \\\n",
    "keep='first',\\\n",
    "inplace=False)\n",
    "indexed_PersonHub = PersonHub.set_index(['PersonHubID'])\n",
    "sTable = 'Hub-Person'\n",
    "print('Storing :',sDatabaseName,' Table:',sTable)\n",
    "indexed_PersonHub.to_sql(sTable, conn2, if_exists=\"replace\")\n",
    "PersonSatelliteGenderRaw=Data[['PersonID','FirstName','SecondName','LastName'\\\n",
    ",'BirthDateKey','Gender']]\n",
    "PersonSatelliteGenderRaw['PersonSatelliteID']=RawData.apply(lambda row:\n",
    "str(uuid.uuid4())\n",
    ",axis=1)\n",
    "PersonSatelliteGender=PersonSatelliteGenderRaw.drop_duplicates(subset=None, \\\n",
    "keep='first', \\\n",
    "inplace=False)\n",
    "indexed_PersonSatelliteGender = PersonSatelliteGender.set_index(['PersonSatelliteID'])\n",
    "sTable = 'Satellite-Person-Gender'\n",
    "print('Storing :',sDatabaseName,' Table:',sTable)\n",
    "indexed_PersonSatelliteGender.to_sql(sTable, conn2, if_exists=\"replace\")\n",
    "################################################################\n",
    "PersonSatelliteBirthdayRaw=Data[['PersonID','FirstName','SecondName','LastName',\\\n",
    "'BirthDateKey','TimeZone','BirthDate']]\n",
    "PersonSatelliteBirthdayRaw['PersonSatelliteID']=RawData.apply(lambda row:\n",
    "str(uuid.uuid4())\n",
    ",axis=1)\n",
    "PersonSatelliteBirthday=PersonSatelliteBirthdayRaw.drop_duplicates(subset=None, \\\n",
    "keep='first',\\\n",
    "inplace=False)\n",
    "indexed_PersonSatelliteBirthday = PersonSatelliteBirthday.set_index(['PersonSatelliteID'])\n",
    "sTable = 'Satellite-Person-Names'\n",
    "print('Storing :',sDatabaseName,' Table:',sTable)\n",
    "indexed_PersonSatelliteBirthday.to_sql(sTable, conn2, if_exists=\"replace\")\n",
    "################################################################\n",
    "sFileDir=Base\n",
    "sOutputFileName = sTable + '.csv'\n",
    "sFileName=sFileDir + '/' + sOutputFileName\n",
    "print('Storing :', sFileName)\n",
    "print('################################')\n",
    "RawData.to_csv(sFileName, index = False)\n",
    "print('Vacuum Databases')\n",
    "sSQL=\"VACUUM;\"\n",
    "sql.execute(sSQL,conn1)\n",
    "sql.execute(sSQL,conn2)\n",
    "print('Done!!')\n",
    "print('Nishi Jain-53004230036')"
   ]
  }
 ],
 "metadata": {
  "kernelspec": {
   "display_name": "Python 3",
   "language": "python",
   "name": "python3"
  },
  "language_info": {
   "codemirror_mode": {
    "name": "ipython",
    "version": 3
   },
   "file_extension": ".py",
   "mimetype": "text/x-python",
   "name": "python",
   "nbconvert_exporter": "python",
   "pygments_lexer": "ipython3",
   "version": "3.10.5"
  }
 },
 "nbformat": 4,
 "nbformat_minor": 2
}
