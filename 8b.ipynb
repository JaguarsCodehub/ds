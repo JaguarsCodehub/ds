{
 "cells": [
  {
   "cell_type": "code",
   "execution_count": 2,
   "metadata": {},
   "outputs": [
    {
     "ename": "TypeError",
     "evalue": "RangeIndex.name must be a hashable type",
     "output_type": "error",
     "traceback": [
      "\u001b[1;31m---------------------------------------------------------------------------\u001b[0m",
      "\u001b[1;31mTypeError\u001b[0m                                 Traceback (most recent call last)",
      "Cell \u001b[1;32mIn[2], line 22\u001b[0m\n\u001b[0;32m     20\u001b[0m labels\u001b[38;5;241m=\u001b[39mos_new[\u001b[38;5;124m'\u001b[39m\u001b[38;5;124mWarehouse Location\u001b[39m\u001b[38;5;124m'\u001b[39m]\n\u001b[0;32m     21\u001b[0m colors_mine \u001b[38;5;241m=\u001b[39m [\u001b[38;5;124m'\u001b[39m\u001b[38;5;124myellowgreen\u001b[39m\u001b[38;5;124m'\u001b[39m, \u001b[38;5;124m'\u001b[39m\u001b[38;5;124mgold\u001b[39m\u001b[38;5;124m'\u001b[39m, \u001b[38;5;124m'\u001b[39m\u001b[38;5;124mlightskyblue\u001b[39m\u001b[38;5;124m'\u001b[39m, \u001b[38;5;124m'\u001b[39m\u001b[38;5;124mlightcoral\u001b[39m\u001b[38;5;124m'\u001b[39m,\u001b[38;5;124m'\u001b[39m\u001b[38;5;124mlightcyan\u001b[39m\u001b[38;5;124m'\u001b[39m,\u001b[38;5;124m'\u001b[39m\u001b[38;5;124mlightblue\u001b[39m\u001b[38;5;124m'\u001b[39m]\n\u001b[1;32m---> 22\u001b[0m \u001b[43mos_new\u001b[49m\u001b[38;5;241;43m.\u001b[39;49m\u001b[43mplot\u001b[49m\u001b[43m(\u001b[49m\u001b[43mfigsize\u001b[49m\u001b[38;5;241;43m=\u001b[39;49m\u001b[43m(\u001b[49m\u001b[38;5;241;43m10\u001b[39;49m\u001b[43m,\u001b[49m\u001b[43m \u001b[49m\u001b[38;5;241;43m5\u001b[39;49m\u001b[43m)\u001b[49m\u001b[43m,\u001b[49m\u001b[43mkind\u001b[49m\u001b[38;5;241;43m=\u001b[39;49m\u001b[38;5;124;43m\"\u001b[39;49m\u001b[38;5;124;43mpie\u001b[39;49m\u001b[38;5;124;43m\"\u001b[39;49m\u001b[43m,\u001b[49m\u001b[43m \u001b[49m\u001b[43my\u001b[49m\u001b[38;5;241;43m=\u001b[39;49m\u001b[43m[\u001b[49m\u001b[38;5;124;43m'\u001b[39;49m\u001b[38;5;124;43mProfit 2016\u001b[39;49m\u001b[38;5;124;43m'\u001b[39;49m\u001b[43m,\u001b[49m\u001b[38;5;124;43m'\u001b[39;49m\u001b[38;5;124;43mProfit 2017\u001b[39;49m\u001b[38;5;124;43m'\u001b[39;49m\u001b[43m]\u001b[49m\u001b[43m,\u001b[49m\u001b[43mautopct\u001b[49m\u001b[38;5;241;43m=\u001b[39;49m\u001b[38;5;124;43m'\u001b[39;49m\u001b[38;5;132;43;01m%.2f\u001b[39;49;00m\u001b[38;5;132;43;01m%%\u001b[39;49;00m\u001b[38;5;124;43m'\u001b[39;49m\u001b[43m,\u001b[49m\u001b[43m \u001b[49m\u001b[43mshadow\u001b[49m\u001b[38;5;241;43m=\u001b[39;49m\u001b[38;5;28;43;01mTrue\u001b[39;49;00m\u001b[43m,\u001b[49m\u001b[43m \u001b[49m\u001b[43mexplode\u001b[49m\u001b[38;5;241;43m=\u001b[39;49m\u001b[43mexplode\u001b[49m\u001b[43m,\u001b[49m\u001b[43m \u001b[49m\u001b[43mlegend\u001b[49m\u001b[43m \u001b[49m\u001b[38;5;241;43m=\u001b[39;49m\u001b[43m \u001b[49m\u001b[38;5;28;43;01mFalse\u001b[39;49;00m\u001b[43m,\u001b[49m\u001b[43mcolors\u001b[49m\u001b[43m \u001b[49m\u001b[38;5;241;43m=\u001b[39;49m\u001b[43m \u001b[49m\u001b[43mcolors_mine\u001b[49m\u001b[43m,\u001b[49m\u001b[43m \u001b[49m\u001b[43msubplots\u001b[49m\u001b[38;5;241;43m=\u001b[39;49m\u001b[38;5;28;43;01mTrue\u001b[39;49;00m\u001b[43m,\u001b[49m\u001b[43m \u001b[49m\u001b[43mlabels\u001b[49m\u001b[38;5;241;43m=\u001b[39;49m\u001b[43mlabels\u001b[49m\u001b[43m,\u001b[49m\u001b[43m \u001b[49m\u001b[43mfontsize\u001b[49m\u001b[38;5;241;43m=\u001b[39;49m\u001b[38;5;241;43m10\u001b[39;49m\u001b[43m)\u001b[49m\n\u001b[0;32m     23\u001b[0m sPicNameOut2\u001b[38;5;241m=\u001b[39mGBase\u001b[38;5;241m+\u001b[39m\u001b[38;5;124m'\u001b[39m\u001b[38;5;124mpie.png\u001b[39m\u001b[38;5;124m'\u001b[39m\n\u001b[0;32m     24\u001b[0m plt\u001b[38;5;241m.\u001b[39msavefig(sPicNameOut2, dpi\u001b[38;5;241m=\u001b[39m\u001b[38;5;241m600\u001b[39m)\n",
      "File \u001b[1;32mc:\\Users\\Jyotindra\\AppData\\Local\\Programs\\Python\\Python310\\lib\\site-packages\\pandas\\plotting\\_core.py:934\u001b[0m, in \u001b[0;36mPlotAccessor.__call__\u001b[1;34m(self, *args, **kwargs)\u001b[0m\n\u001b[0;32m    932\u001b[0m             \u001b[38;5;66;03m# converted to series actually. copy to not modify\u001b[39;00m\n\u001b[0;32m    933\u001b[0m             data \u001b[38;5;241m=\u001b[39m data[y]\u001b[38;5;241m.\u001b[39mcopy()\n\u001b[1;32m--> 934\u001b[0m             \u001b[43mdata\u001b[49m\u001b[38;5;241;43m.\u001b[39;49m\u001b[43mindex\u001b[49m\u001b[38;5;241;43m.\u001b[39;49m\u001b[43mname\u001b[49m \u001b[38;5;241m=\u001b[39m y\n\u001b[0;32m    935\u001b[0m \u001b[38;5;28;01melif\u001b[39;00m \u001b[38;5;28misinstance\u001b[39m(data, ABCDataFrame):\n\u001b[0;32m    936\u001b[0m     data_cols \u001b[38;5;241m=\u001b[39m data\u001b[38;5;241m.\u001b[39mcolumns\n",
      "File \u001b[1;32mc:\\Users\\Jyotindra\\AppData\\Local\\Programs\\Python\\Python310\\lib\\site-packages\\pandas\\core\\indexes\\base.py:1597\u001b[0m, in \u001b[0;36mIndex.name\u001b[1;34m(self, value)\u001b[0m\n\u001b[0;32m   1591\u001b[0m \u001b[38;5;28;01mif\u001b[39;00m \u001b[38;5;28mself\u001b[39m\u001b[38;5;241m.\u001b[39m_no_setting_name:\n\u001b[0;32m   1592\u001b[0m     \u001b[38;5;66;03m# Used in MultiIndex.levels to avoid silently ignoring name updates.\u001b[39;00m\n\u001b[0;32m   1593\u001b[0m     \u001b[38;5;28;01mraise\u001b[39;00m \u001b[38;5;167;01mRuntimeError\u001b[39;00m(\n\u001b[0;32m   1594\u001b[0m         \u001b[38;5;124m\"\u001b[39m\u001b[38;5;124mCannot set name on a level of a MultiIndex. Use \u001b[39m\u001b[38;5;124m\"\u001b[39m\n\u001b[0;32m   1595\u001b[0m         \u001b[38;5;124m\"\u001b[39m\u001b[38;5;124m'\u001b[39m\u001b[38;5;124mMultiIndex.set_names\u001b[39m\u001b[38;5;124m'\u001b[39m\u001b[38;5;124m instead.\u001b[39m\u001b[38;5;124m\"\u001b[39m\n\u001b[0;32m   1596\u001b[0m     )\n\u001b[1;32m-> 1597\u001b[0m \u001b[43mmaybe_extract_name\u001b[49m\u001b[43m(\u001b[49m\u001b[43mvalue\u001b[49m\u001b[43m,\u001b[49m\u001b[43m \u001b[49m\u001b[38;5;28;43;01mNone\u001b[39;49;00m\u001b[43m,\u001b[49m\u001b[43m \u001b[49m\u001b[38;5;28;43mtype\u001b[39;49m\u001b[43m(\u001b[49m\u001b[38;5;28;43mself\u001b[39;49m\u001b[43m)\u001b[49m\u001b[43m)\u001b[49m\n\u001b[0;32m   1598\u001b[0m \u001b[38;5;28mself\u001b[39m\u001b[38;5;241m.\u001b[39m_name \u001b[38;5;241m=\u001b[39m value\n",
      "File \u001b[1;32mc:\\Users\\Jyotindra\\AppData\\Local\\Programs\\Python\\Python310\\lib\\site-packages\\pandas\\core\\indexes\\base.py:7175\u001b[0m, in \u001b[0;36mmaybe_extract_name\u001b[1;34m(name, obj, cls)\u001b[0m\n\u001b[0;32m   7173\u001b[0m \u001b[38;5;66;03m# GH#29069\u001b[39;00m\n\u001b[0;32m   7174\u001b[0m \u001b[38;5;28;01mif\u001b[39;00m \u001b[38;5;129;01mnot\u001b[39;00m is_hashable(name):\n\u001b[1;32m-> 7175\u001b[0m     \u001b[38;5;28;01mraise\u001b[39;00m \u001b[38;5;167;01mTypeError\u001b[39;00m(\u001b[38;5;124mf\u001b[39m\u001b[38;5;124m\"\u001b[39m\u001b[38;5;132;01m{\u001b[39;00m\u001b[38;5;28mcls\u001b[39m\u001b[38;5;241m.\u001b[39m\u001b[38;5;18m__name__\u001b[39m\u001b[38;5;132;01m}\u001b[39;00m\u001b[38;5;124m.name must be a hashable type\u001b[39m\u001b[38;5;124m\"\u001b[39m)\n\u001b[0;32m   7177\u001b[0m \u001b[38;5;28;01mreturn\u001b[39;00m name\n",
      "\u001b[1;31mTypeError\u001b[0m: RangeIndex.name must be a hashable type"
     ]
    }
   ],
   "source": [
    "import pandas as pd\n",
    "import matplotlib as ml\n",
    "from matplotlib import pyplot as plt\n",
    "GBase ='C:/Users/Jyotindra/Desktop/DSPracs'\n",
    "ml.style.use('ggplot')\n",
    "data=[\n",
    "['London', 29.2, 17.4],\n",
    "['Glasgow', 18.8, 11.3],\n",
    "['Cape Town', 15.3, 9.0],\n",
    "['Houston', 22.0, 7.8],\n",
    "['Perth', 18.0, 23.7],\n",
    "['San Francisco', 11.4, 33.3]\n",
    "]\n",
    "os_new=pd.DataFrame(data)\n",
    "pd.Index(['Item', 'Value', 'Value Percent', 'Conversions', 'ConversionPercent','URL', 'StatsURL'],dtype='object')\n",
    "os_new.rename(columns = {0 : \"Warehouse Location\"}, inplace=True)\n",
    "os_new.rename(columns = {1 : \"Profit 2016\"}, inplace=True)\n",
    "os_new.rename(columns = {2 : \"Profit 2017\"}, inplace=True)\n",
    "explode = (0, 0, 0, 0, 0, 0)\n",
    "labels=os_new['Warehouse Location']\n",
    "colors_mine = ['yellowgreen', 'gold', 'lightskyblue', 'lightcoral','lightcyan','lightblue']\n",
    "os_new.plot(figsize=(10, 5),kind=\"pie\", y=['Profit 2016','Profit 2017'],autopct='%.2f%%', shadow=True, explode=explode, legend = False,colors = colors_mine, subplots=True, labels=labels, fontsize=10)\n",
    "sPicNameOut2=GBase+'pie.png'\n",
    "plt.savefig(sPicNameOut2, dpi=600)\n",
    "print('Nishi Jain-53004230036')"
   ]
  }
 ],
 "metadata": {
  "kernelspec": {
   "display_name": "Python 3",
   "language": "python",
   "name": "python3"
  },
  "language_info": {
   "codemirror_mode": {
    "name": "ipython",
    "version": 3
   },
   "file_extension": ".py",
   "mimetype": "text/x-python",
   "name": "python",
   "nbconvert_exporter": "python",
   "pygments_lexer": "ipython3",
   "version": "3.10.5"
  }
 },
 "nbformat": 4,
 "nbformat_minor": 2
}
