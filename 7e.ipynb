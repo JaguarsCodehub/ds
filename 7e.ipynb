{
 "cells": [
  {
   "cell_type": "code",
   "execution_count": null,
   "metadata": {},
   "outputs": [],
   "source": [
    "import pandas as pd\n",
    "from mlxtend.frequent_patterns import apriori\n",
    "from mlxtend.frequent_patterns import association_rules\n",
    "InputFileName='Online-Retail-Billboard.xlsx'\n",
    "sFileAssessDir='D:/DSPrac/practical-data-science-master/VKHCG/01-Vermeulen/02-Assess/01-EDS/02-Python'\n",
    "sFileName='D:/DSPrac/practical-data-science-master/VKHCG/01-Vermeulen/00-RawData/' + InputFileName\n",
    "df = pd.read_excel(sFileName)\n",
    "print(df.shape)\n",
    "df['Description'] = df['Description'].str.strip()\n",
    "df.dropna(axis=0, subset=['InvoiceNo'], inplace=True)\n",
    "df['InvoiceNo'] = df['InvoiceNo'].astype('str')\n",
    "df = df[~df['InvoiceNo'].str.contains('C')]\n",
    "basket = (df[df['Country'] ==\"France\"]\n",
    ".groupby(['InvoiceNo', 'Description'])['Quantity']\n",
    ".sum().unstack().reset_index().fillna(0)\n",
    ".set_index('InvoiceNo'))\n",
    "def encode_units(x):\n",
    "    if x <= 0:\n",
    "        return 0\n",
    "    if x >= 1:\n",
    "        return 1\n",
    "basket_sets = basket.applymap(encode_units)\n",
    "basket_sets.drop('POSTAGE', inplace=True, axis=1)\n",
    "frequent_itemsets = apriori(basket_sets, min_support=0.07, use_colnames=True)\n",
    "rules = association_rules(frequent_itemsets, metric=\"lift\", min_threshold=1)\n",
    "print(rules.head())\n",
    "print('#####################################')\n",
    "rules[ (rules['lift'] >= 6) &\n",
    "(rules['confidence'] >= 0.8) ]\n",
    "sProduct1='ALARM CLOCK BAKELIKE GREEN'\n",
    "print(sProduct1)\n",
    "print(basket[sProduct1].sum())\n",
    "sProduct2='ALARM CLOCK BAKELIKE RED'\n",
    "print(sProduct2)\n",
    "print(basket[sProduct2].sum())\n",
    "basket2 = (df[df['Country'] ==\"Germany\"]\n",
    ".groupby(['InvoiceNo', 'Description'])['Quantity']\n",
    ".sum().unstack().reset_index().fillna(0)\n",
    ".set_index('InvoiceNo'))\n",
    "basket_sets2 = basket2.applymap(encode_units)\n",
    "basket_sets2.drop('POSTAGE', inplace=True, axis=1)\n",
    "frequent_itemsets2 = apriori(basket_sets2, min_support=0.05, use_colnames=True)\n",
    "rules2 = association_rules(frequent_itemsets2, metric=\"lift\", min_threshold=1)\n",
    "print(rules2[ (rules2['lift'] >= 4) &\n",
    "(rules2['confidence'] >= 0.5)])\n",
    "print('Done!! ############################################')\n",
    "print('Nishi Jain-53004230036')"
   ]
  }
 ],
 "metadata": {
  "language_info": {
   "name": "python"
  }
 },
 "nbformat": 4,
 "nbformat_minor": 2
}
