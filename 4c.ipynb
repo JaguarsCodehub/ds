{
 "cells": [
  {
   "cell_type": "code",
   "execution_count": 1,
   "metadata": {},
   "outputs": [
    {
     "name": "stdout",
     "output_type": "stream",
     "text": [
      "Loading : C:/Users/Jyotindra/Desktop/DSPracs/Good-or-Bad.csv\n",
      "Raw Data Values\n",
      "      ID FieldA  FieldB FieldC  FieldD  FieldE    FieldF  FieldG\n",
      "0    1.0   Good  Better   Best  1024.0     NaN   10241.0       1\n",
      "1    2.0   Good     NaN   Best   512.0     NaN    5121.0       2\n",
      "2    3.0   Good  Better    NaN   256.0     NaN     256.0       3\n",
      "3    4.0   Good  Better   Best     NaN     NaN     211.0       4\n",
      "4    5.0   Good  Better    NaN    64.0     NaN    6411.0       5\n",
      "5    6.0   Good     NaN   Best    32.0     NaN      32.0       6\n",
      "6    7.0    NaN  Better   Best    16.0     NaN    1611.0       7\n",
      "7    8.0    NaN     NaN   Best     8.0     NaN    8111.0       8\n",
      "8    9.0    NaN     NaN    NaN     4.0     NaN      41.0       9\n",
      "9   10.0      A      B       C     2.0     NaN   21111.0      10\n",
      "10   NaN    NaN     NaN    NaN     NaN     NaN       NaN      11\n",
      "11  10.0   Good  Better   Best  1024.0     NaN  102411.0      12\n",
      "12  10.0   Good     NaN   Best   512.0     NaN     512.0      13\n",
      "13  10.0   Good  Better    NaN   256.0     NaN    1256.0      14\n",
      "14  10.0   Good  Better   Best     NaN     NaN       NaN      15\n",
      "15  10.0   Good  Better    NaN    64.0     NaN     164.0      16\n",
      "16  10.0   Good     NaN   Best    32.0     NaN     322.0      17\n",
      "17  10.0    NaN  Better   Best    16.0     NaN     163.0      18\n",
      "18  10.0    NaN     NaN   Best     8.0     NaN     844.0      19\n",
      "19  10.0    NaN     NaN    NaN     4.0     NaN    4555.0      20\n",
      "20  10.0      A      B       C     2.0     NaN     111.0      21\n",
      "Data Profile\n",
      "Rows : 21\n",
      "Columns : 8\n",
      "################################\n",
      "Test Data Values\n",
      "      ID FieldA  FieldB FieldC  FieldD  FieldE    FieldF  FieldG\n",
      "0    1.0   Good  Better   Best  1024.0     NaN   10241.0       1\n",
      "1    2.0   Good     NaN   Best   512.0     NaN    5121.0       2\n",
      "2    3.0   Good  Better    NaN   256.0     NaN     256.0       3\n",
      "3    4.0   Good  Better   Best     NaN     NaN     211.0       4\n",
      "4    5.0   Good  Better    NaN    64.0     NaN    6411.0       5\n",
      "5    6.0   Good     NaN   Best    32.0     NaN      32.0       6\n",
      "6    7.0    NaN  Better   Best    16.0     NaN    1611.0       7\n",
      "7    8.0    NaN     NaN   Best     8.0     NaN    8111.0       8\n",
      "8    9.0    NaN     NaN    NaN     4.0     NaN      41.0       9\n",
      "9   10.0      A      B       C     2.0     NaN   21111.0      10\n",
      "11  10.0   Good  Better   Best  1024.0     NaN  102411.0      12\n",
      "12  10.0   Good     NaN   Best   512.0     NaN     512.0      13\n",
      "13  10.0   Good  Better    NaN   256.0     NaN    1256.0      14\n",
      "14  10.0   Good  Better   Best     NaN     NaN       NaN      15\n",
      "15  10.0   Good  Better    NaN    64.0     NaN     164.0      16\n",
      "16  10.0   Good     NaN   Best    32.0     NaN     322.0      17\n",
      "17  10.0    NaN  Better   Best    16.0     NaN     163.0      18\n",
      "18  10.0    NaN     NaN   Best     8.0     NaN     844.0      19\n",
      "19  10.0    NaN     NaN    NaN     4.0     NaN    4555.0      20\n",
      "20  10.0      A      B       C     2.0     NaN     111.0      21\n",
      "Data Profile\n",
      "Rows : 20\n",
      "Columns : 8\n",
      "Nishi Jain-53004230036\n"
     ]
    }
   ],
   "source": [
    "import pandas as pd\n",
    "sInputFileName='/Good-or-Bad.csv'\n",
    "sOutputFileName='/Good-or-Bad-02.csv'\n",
    "sFileDir='C:/Users/Jyotindra/Desktop/DSPracs'\n",
    "sFileName= sFileDir + sInputFileName\n",
    "print('Loading :',sFileName)\n",
    "RawData=pd.read_csv(sFileName,header=0)\n",
    "print('Raw Data Values')\n",
    "print(RawData)\n",
    "print('Data Profile')\n",
    "print('Rows :',RawData.shape[0])\n",
    "print('Columns :',RawData.shape[1])\n",
    "sFileName= sFileDir + sInputFileName\n",
    "RawData.to_csv(sFileName, index = False)\n",
    "TestData=RawData.dropna(thresh=2)\n",
    "print('################################')\n",
    "print('Test Data Values')\n",
    "print(TestData)\n",
    "print('Data Profile')\n",
    "print('Rows :',TestData.shape[0])\n",
    "print('Columns :',TestData.shape[1])\n",
    "sFileName= sFileDir + sOutputFileName\n",
    "TestData.to_csv(sFileName, index = False)\n",
    "print('Nishi Jain-53004230036')"
   ]
  }
 ],
 "metadata": {
  "kernelspec": {
   "display_name": "Python 3",
   "language": "python",
   "name": "python3"
  },
  "language_info": {
   "codemirror_mode": {
    "name": "ipython",
    "version": 3
   },
   "file_extension": ".py",
   "mimetype": "text/x-python",
   "name": "python",
   "nbconvert_exporter": "python",
   "pygments_lexer": "ipython3",
   "version": "3.10.5"
  }
 },
 "nbformat": 4,
 "nbformat_minor": 2
}
