{
 "cells": [
  {
   "cell_type": "code",
   "execution_count": 1,
   "metadata": {},
   "outputs": [
    {
     "name": "stdout",
     "output_type": "stream",
     "text": [
      "Loading : C:/Users/Jyotindra/Desktop/DSPracs/Retrieve_IP_DATA.csv\n",
      "Storing : C:/Users/Jyotindra/Desktop/DSPracs/vermeulen.db  Table: IP_DATA_ALL\n",
      "Loading : C:/Users/Jyotindra/Desktop/DSPracs/vermeulen.db Table: IP_DATA_ALL\n",
      "################\n",
      "Data Values\n",
      "         RowIDCSV    RowID       ID Country    Place.Name Post.Code  Latitude   \n",
      "0               0        0        1      BW      Gaborone      None  -24.6464  \\\n",
      "1               1        1        2      BW      Gaborone      None  -24.6464   \n",
      "2               2        2        3      BW      Gaborone      None  -24.6464   \n",
      "3               3        3        4      BW      Gaborone      None  -24.6464   \n",
      "4               4        4        5      BW      Gaborone      None  -24.6464   \n",
      "...           ...      ...      ...     ...           ...       ...       ...   \n",
      "1247497   1247497  1247497  1247498      CA   Mississauga   l5n 0b9   43.5924   \n",
      "1247498   1247498  1247498  1247499      DE     Frankfurt     60386   50.1327   \n",
      "1247499   1247499  1247499  1247500      RU  Pyatigorskiy    357355   43.9742   \n",
      "1247500   1247500  1247500  1247501      CA     Kitchener   n2c 1x3   43.4182   \n",
      "1247501   1247501  1247501  1247502      JP         Tokyo  214-0039   35.6116   \n",
      "\n",
      "         Longitude  First.IP.Number  Last.IP.Number  \n",
      "0          25.9119        692781056       692781567  \n",
      "1          25.9119        692781824       692783103  \n",
      "2          25.9119        692909056       692909311  \n",
      "3          25.9119        692909568       692910079  \n",
      "4          25.9119        693051392       693052415  \n",
      "...            ...              ...             ...  \n",
      "1247497   -79.7611       1068157850      1068157850  \n",
      "1247498     8.7668       1334409600      1334409607  \n",
      "1247499    43.2583       1596886528      1596886783  \n",
      "1247500   -80.4451       1742189568      1742190591  \n",
      "1247501   139.5357       1905782573      1905782573  \n",
      "\n",
      "[1247502 rows x 10 columns]\n",
      "\n",
      "Data Profile\n",
      "\n",
      "Rows : 1247502\n",
      "Columns : 10\n",
      "Done!!\n",
      "Nishi Jain-53004230036\n"
     ]
    }
   ],
   "source": [
    "import sqlite3 as sq\n",
    "import pandas as pd\n",
    "Base='C:/Users/Jyotindra/Desktop/DSPracs'\n",
    "sDatabaseName=Base + '/vermeulen.db'\n",
    "conn = sq.connect(sDatabaseName)\n",
    "sFileName=Base + '/Retrieve_IP_DATA.csv'\n",
    "print('Loading :',sFileName)\n",
    "IP_DATA_ALL_FIX=pd.read_csv(sFileName,header=0,low_memory=False)\n",
    "IP_DATA_ALL_FIX.index.names = ['RowIDCSV']\n",
    "sTable='IP_DATA_ALL'\n",
    "print('Storing :',sDatabaseName,' Table:',sTable)\n",
    "IP_DATA_ALL_FIX.to_sql(sTable, conn, if_exists='replace')\n",
    "print('Loading :',sDatabaseName,'Table:',sTable)\n",
    "TestData=pd.read_sql_query(\"select * from IP_DATA_ALL;\", conn)\n",
    "print('################')\n",
    "print('Data Values')\n",
    "print(TestData)\n",
    "print('\\nData Profile')\n",
    "print('\\nRows :',TestData.shape[0])\n",
    "print('Columns :',TestData.shape[1])\n",
    "print('Done!!')\n",
    "print('Nishi Jain-53004230036')"
   ]
  }
 ],
 "metadata": {
  "kernelspec": {
   "display_name": "Python 3",
   "language": "python",
   "name": "python3"
  },
  "language_info": {
   "codemirror_mode": {
    "name": "ipython",
    "version": 3
   },
   "file_extension": ".py",
   "mimetype": "text/x-python",
   "name": "python",
   "nbconvert_exporter": "python",
   "pygments_lexer": "ipython3",
   "version": "3.10.5"
  }
 },
 "nbformat": 4,
 "nbformat_minor": 2
}
