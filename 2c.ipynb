{
 "cells": [
  {
   "cell_type": "code",
   "execution_count": 8,
   "metadata": {},
   "outputs": [
    {
     "name": "stdout",
     "output_type": "stream",
     "text": [
      "Working Base: C:/Users/Jyotindra/Desktop/DSPracs/ using\n",
      "==================================\n",
      "Loading: C:/Users/Jyotindra/Desktop/DSPracs/IP_DATA_CORE.csv\n",
      "==================================\n",
      "     Country Place_Name  Latitude\n",
      "0         US   New York   40.7528\n",
      "1         US   New York   40.7528\n",
      "2         US   New York   40.7528\n",
      "3         US   New York   40.7528\n",
      "4         US   New York   40.7528\n",
      "...      ...        ...       ...\n",
      "3557      DE     Munich   48.0915\n",
      "3558      DE     Munich   48.1833\n",
      "3559      DE     Munich   48.1000\n",
      "3560      DE     Munich   48.1480\n",
      "3561      DE     Munich   48.1480\n",
      "\n",
      "[3562 rows x 3 columns]\n",
      "==================================\n",
      "Nishi Jain-53004230036\n"
     ]
    }
   ],
   "source": [
    "import pandas as pd\n",
    "InputFileName='IP_DATA_CORE.csv'\n",
    "OutputFileName='Retrieve_Router_Location.csv'\n",
    "Base='C:/Users/Jyotindra/Desktop/DSPracs/'\n",
    "print('Working Base:',Base,'using')\n",
    "print('==================================')\n",
    "sFileName = Base + InputFileName\n",
    "print('Loading:',sFileName)\n",
    "print('==================================')\n",
    "IP_DATA_ALL=pd.read_csv(sFileName,usecols=['Country','Place Name','Latitude','Longitude'],encoding=\"latin-1\")\n",
    "IP_DATA_ALL.rename(columns={'Place Name':'Place_Name'},inplace=True)\n",
    "AllData=IP_DATA_ALL[['Country','Place_Name','Latitude']]\n",
    "print(AllData)\n",
    "MeanData=AllData.groupby(['Country','Place_Name'])['Latitude'].mean()\n",
    "print(MeanData)\n",
    "print('==================================')\n",
    "print('Nishi Jain-53004230036')"
   ]
  }
 ],
 "metadata": {
  "kernelspec": {
   "display_name": "Python 3",
   "language": "python",
   "name": "python3"
  },
  "language_info": {
   "codemirror_mode": {
    "name": "ipython",
    "version": 3
   },
   "file_extension": ".py",
   "mimetype": "text/x-python",
   "name": "python",
   "nbconvert_exporter": "python",
   "pygments_lexer": "ipython3",
   "version": "3.10.5"
  }
 },
 "nbformat": 4,
 "nbformat_minor": 2
}
