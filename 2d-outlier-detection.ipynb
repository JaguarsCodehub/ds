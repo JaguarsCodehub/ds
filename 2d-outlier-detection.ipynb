{
 "cells": [
  {
   "cell_type": "code",
   "execution_count": 1,
   "metadata": {},
   "outputs": [
    {
     "name": "stdout",
     "output_type": "stream",
     "text": [
      "Working Base: C:/Users/Jyotindra/Desktop/DSPracs/\n",
      "==================================\n",
      "Loading: C:/Users/Jyotindra/Desktop/DSPracs/IP_DATA_CORE.csv\n",
      "AllData\n",
      "     Country Place_Name  Latitude\n",
      "1910      GB     London   51.5130\n",
      "1911      GB     London   51.5508\n",
      "1912      GB     London   51.5649\n",
      "1913      GB     London   51.5895\n",
      "1914      GB     London   51.5232\n",
      "...      ...        ...       ...\n",
      "3434      GB     London   51.5092\n",
      "3435      GB     London   51.5092\n",
      "3436      GB     London   51.5163\n",
      "3437      GB     London   51.5085\n",
      "3438      GB     London   51.5136\n",
      "\n",
      "[1502 rows x 3 columns]\n",
      "Outliers\n",
      "Higher than 51.512635507867415\n",
      "     Country Place_Name  Latitude\n",
      "1910      GB     London   51.5130\n",
      "1911      GB     London   51.5508\n",
      "1912      GB     London   51.5649\n",
      "1913      GB     London   51.5895\n",
      "1914      GB     London   51.5232\n",
      "1916      GB     London   51.5491\n",
      "1919      GB     London   51.5161\n",
      "1920      GB     London   51.5198\n",
      "1921      GB     London   51.5198\n",
      "1923      GB     London   51.5237\n",
      "1924      GB     London   51.5237\n",
      "1925      GB     London   51.5237\n",
      "1926      GB     London   51.5237\n",
      "1927      GB     London   51.5232\n",
      "3436      GB     London   51.5163\n",
      "3438      GB     London   51.5136\n",
      "Lower than 51.506176875621264\n",
      "     Country Place_Name  Latitude\n",
      "1915      GB     London   51.4739\n",
      "Not Outliers\n",
      "     Country Place_Name  Latitude\n",
      "1917      GB     London   51.5085\n",
      "1918      GB     London   51.5085\n",
      "1922      GB     London   51.5085\n",
      "1928      GB     London   51.5085\n",
      "1929      GB     London   51.5085\n",
      "...      ...        ...       ...\n",
      "3432      GB     London   51.5092\n",
      "3433      GB     London   51.5092\n",
      "3434      GB     London   51.5092\n",
      "3435      GB     London   51.5092\n",
      "3437      GB     London   51.5085\n",
      "\n",
      "[1485 rows x 3 columns]\n",
      "Nishi Jain-53004230036\n"
     ]
    },
    {
     "name": "stderr",
     "output_type": "stream",
     "text": [
      "C:\\Users\\Jyotindra\\AppData\\Local\\Temp\\ipykernel_11160\\2382946185.py:18: FutureWarning: Calling float on a single element Series is deprecated and will raise a TypeError in the future. Use float(ser.iloc[0]) instead\n",
      "  UpperBound=float(MeanData+StdData)\n",
      "C:\\Users\\Jyotindra\\AppData\\Local\\Temp\\ipykernel_11160\\2382946185.py:23: FutureWarning: Calling float on a single element Series is deprecated and will raise a TypeError in the future. Use float(ser.iloc[0]) instead\n",
      "  LowerBound=float(MeanData-StdData)\n"
     ]
    }
   ],
   "source": [
    "import pandas as pd\n",
    "InputFileName='IP_DATA_CORE.csv'\n",
    "OutputFileName='Retrieve_Router_Location.csv'\n",
    "Base='C:/Users/Jyotindra/Desktop/DSPracs/'\n",
    "print('Working Base:',Base)\n",
    "print('==================================')\n",
    "sFileName = Base + InputFileName\n",
    "print('Loading:',sFileName)\n",
    "IP_DATA_ALL=pd.read_csv(sFileName,header=0,low_memory=False,usecols=['Country','Place Name','Latitude','Longitude'],encoding=\"latin-1\")\n",
    "IP_DATA_ALL.rename(columns={'Place Name':'Place_Name'},inplace=True)\n",
    "LondonData=IP_DATA_ALL.loc[IP_DATA_ALL['Place_Name']=='London']\n",
    "AllData=LondonData[['Country','Place_Name','Latitude']]\n",
    "print('AllData')\n",
    "print(AllData)\n",
    "MeanData=AllData.groupby(['Country','Place_Name'])['Latitude'].mean()\n",
    "StdData=AllData.groupby(['Country','Place_Name'])['Latitude'].std()\n",
    "print('Outliers')\n",
    "UpperBound=float(MeanData+StdData)\n",
    "print('Higher than',UpperBound)\n",
    "64\n",
    "OutliersHigher=AllData[AllData.Latitude>UpperBound]\n",
    "print(OutliersHigher)\n",
    "LowerBound=float(MeanData-StdData)\n",
    "print('Lower than',LowerBound)\n",
    "OutliersLower=AllData[AllData.Latitude<LowerBound]\n",
    "print(OutliersLower)\n",
    "print('Not Outliers')\n",
    "OutliersNot=AllData[(AllData.Latitude>=LowerBound)&(AllData.Latitude<=UpperBound)]\n",
    "print(OutliersNot)\n",
    "print('Nishi Jain-53004230036')"
   ]
  }
 ],
 "metadata": {
  "kernelspec": {
   "display_name": "Python 3",
   "language": "python",
   "name": "python3"
  },
  "language_info": {
   "codemirror_mode": {
    "name": "ipython",
    "version": 3
   },
   "file_extension": ".py",
   "mimetype": "text/x-python",
   "name": "python",
   "nbconvert_exporter": "python",
   "pygments_lexer": "ipython3",
   "version": "3.10.5"
  }
 },
 "nbformat": 4,
 "nbformat_minor": 2
}
