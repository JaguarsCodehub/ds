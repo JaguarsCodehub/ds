{
 "cells": [
  {
   "cell_type": "code",
   "execution_count": 1,
   "metadata": {},
   "outputs": [
    {
     "name": "stdout",
     "output_type": "stream",
     "text": [
      "Loading : C:/Users/Jyotindra/Desktop/DSPracs/IP_DATA_ALL.csv\n",
      "Rows: 1247502\n",
      "Columns: 9\n",
      "### Raw Data Set #####################################\n",
      "Unnamed: 0 <class 'str'>\n",
      "ID <class 'str'>\n",
      "Country <class 'str'>\n",
      "Place.Name <class 'str'>\n",
      "Post.Code <class 'str'>\n",
      "Latitude <class 'str'>\n",
      "Longitude <class 'str'>\n",
      "First.IP.Number <class 'str'>\n",
      "Last.IP.Number <class 'str'>\n",
      "### Fixed Data Set ###################################\n",
      "Last.IP.Number <class 'str'>\n",
      "Fixed Data Set with ID\n",
      "Done!! ############################################\n",
      "Nishi Jain-53004230036\n"
     ]
    }
   ],
   "source": [
    "import pandas as pd\n",
    "sFileName='C:/Users/Jyotindra/Desktop/DSPracs/IP_DATA_ALL.csv'\n",
    "print('Loading :',sFileName)\n",
    "IP_DATA_ALL=pd.read_csv(sFileName,header=0,low_memory=False, encoding=\"latin-1\")\n",
    "sFileDir='C:/Users/Jyotindra/Desktop/DSPracs'\n",
    "print('Rows:', IP_DATA_ALL.shape[0])\n",
    "print('Columns:', IP_DATA_ALL.shape[1])\n",
    "print('### Raw Data Set #####################################')\n",
    "for i in range(0,len(IP_DATA_ALL.columns)):\n",
    "        print(IP_DATA_ALL.columns[i],type(IP_DATA_ALL.columns[i]))\n",
    "print('### Fixed Data Set ###################################')\n",
    "IP_DATA_ALL_FIX=IP_DATA_ALL\n",
    "for i in range(0,len(IP_DATA_ALL.columns)):\n",
    "    cNameOld=IP_DATA_ALL_FIX.columns[i] + ' '\n",
    "cNameNew=cNameOld.strip().replace(\" \", \".\")\n",
    "IP_DATA_ALL_FIX.columns.values[i] = cNameNew\n",
    "print(IP_DATA_ALL.columns[i],type(IP_DATA_ALL.columns[i]))\n",
    "#print(IP_DATA_ALL_FIX.head())\n",
    "print('Fixed Data Set with ID')\n",
    "IP_DATA_ALL_with_ID=IP_DATA_ALL_FIX\n",
    "IP_DATA_ALL_with_ID.index.names = ['RowID']\n",
    "#print(IP_DATA_ALL_with_ID.head())\n",
    "sFileName2=sFileDir + '/Retrieve_IP_DATA.csv'\n",
    "IP_DATA_ALL_with_ID.to_csv(sFileName2, index = True, encoding=\"latin-1\")\n",
    "print('Done!! ############################################')\n",
    "print('Nishi Jain-53004230036')"
   ]
  }
 ],
 "metadata": {
  "kernelspec": {
   "display_name": "Python 3",
   "language": "python",
   "name": "python3"
  },
  "language_info": {
   "codemirror_mode": {
    "name": "ipython",
    "version": 3
   },
   "file_extension": ".py",
   "mimetype": "text/x-python",
   "name": "python",
   "nbconvert_exporter": "python",
   "pygments_lexer": "ipython3",
   "version": "3.10.5"
  }
 },
 "nbformat": 4,
 "nbformat_minor": 2
}
